{
 "cells": [
  {
   "cell_type": "code",
   "execution_count": 1,
   "id": "80bdd28f",
   "metadata": {},
   "outputs": [],
   "source": [
    "from bs4 import BeautifulSoup\n",
    "import requests\n",
    "import pandas as pd"
   ]
  },
  {
   "cell_type": "code",
   "execution_count": 2,
   "id": "fe995bf1",
   "metadata": {},
   "outputs": [],
   "source": [
    "#find url and store it in a variable\n",
    "url = \"https://www.popvortex.com/music/charts/top-100-songs.php\""
   ]
  },
  {
   "cell_type": "code",
   "execution_count": 3,
   "id": "3ce4822a",
   "metadata": {},
   "outputs": [
    {
     "data": {
      "text/plain": [
       "200"
      ]
     },
     "execution_count": 3,
     "metadata": {},
     "output_type": "execute_result"
    }
   ],
   "source": [
    "#download html with a get request\n",
    "response = requests.get(url)\n",
    "response.status_code # 200 status code means OK!"
   ]
  },
  {
   "cell_type": "code",
   "execution_count": 4,
   "id": "b99046e2",
   "metadata": {},
   "outputs": [],
   "source": [
    "#parse html (create the 'soup')\n",
    "soup = BeautifulSoup(response.content, \"html.parser\")"
   ]
  },
  {
   "cell_type": "code",
   "execution_count": 30,
   "id": "21272fb2",
   "metadata": {},
   "outputs": [],
   "source": [
    "#check that the html code looks like it should\n",
    "#soup"
   ]
  },
  {
   "cell_type": "code",
   "execution_count": 6,
   "id": "f8daf565",
   "metadata": {},
   "outputs": [],
   "source": [
    "#body > div.container > div:nth-child(4) > div.col-xs-12.col-md-8 > div.chart-wrapper"
   ]
  },
  {
   "cell_type": "code",
   "execution_count": 7,
   "id": "c1ff1b1e",
   "metadata": {},
   "outputs": [],
   "source": [
    "#chart-position-2 > div.chart-content.col-xs-12.col-sm-8 > p"
   ]
  },
  {
   "cell_type": "code",
   "execution_count": 8,
   "id": "740b87f5",
   "metadata": {
    "scrolled": true
   },
   "outputs": [],
   "source": [
    "# retrieve/extract the desired info (here, you'll paste the \"Selector\" you copied before to get the element)\n",
    "#soup.select(\"div.chart-content.col-xs-12.col-sm-8 > p\")"
   ]
  },
  {
   "cell_type": "code",
   "execution_count": 9,
   "id": "12212312",
   "metadata": {},
   "outputs": [
    {
     "data": {
      "text/plain": [
       "[<cite class=\"title\">Lovin On Me</cite>,\n",
       " <cite class=\"title\">Lil Boo Thang</cite>,\n",
       " <cite class=\"title\">White Horse</cite>,\n",
       " <cite class=\"title\">I Remember Everything (feat. Kacey Musgraves)</cite>,\n",
       " <cite class=\"title\">Need A Favor</cite>,\n",
       " <cite class=\"title\">Save Me (with Lainey Wilson)</cite>,\n",
       " <cite class=\"title\">90s Rap Mashup</cite>,\n",
       " <cite class=\"title\">Around Me the Cold Night</cite>,\n",
       " <cite class=\"title\">Cruel Summer</cite>,\n",
       " <cite class=\"title\">Sin So Sweet</cite>,\n",
       " <cite class=\"title\">Fairytale Of Philadelphia</cite>,\n",
       " <cite class=\"title\">Now And Then</cite>,\n",
       " <cite class=\"title\">Next Winter I Will Wait for You Forever</cite>,\n",
       " <cite class=\"title\">Christmas / Sarajevo 12/24 (Instrumental)</cite>,\n",
       " <cite class=\"title\">Thinkin’ Bout Me</cite>,\n",
       " <cite class=\"title\">In the Sky a White Cloud Drifted Lazily</cite>,\n",
       " <cite class=\"title\">greedy</cite>,\n",
       " <cite class=\"title\">Fast Car</cite>,\n",
       " <cite class=\"title\">Lose Control</cite>,\n",
       " <cite class=\"title\">All I Want for Christmas Is You</cite>,\n",
       " <cite class=\"title\">Houdini</cite>,\n",
       " <cite class=\"title\">Even Though I Know You</cite>,\n",
       " <cite class=\"title\">Wrap Me Up</cite>,\n",
       " <cite class=\"title\">Last Night</cite>,\n",
       " <cite class=\"title\">Now I Know I Know I've Lost You</cite>,\n",
       " <cite class=\"title\">Standing Next to You</cite>,\n",
       " <cite class=\"title\">Water</cite>,\n",
       " <cite class=\"title\">Where the Wild Things Are</cite>,\n",
       " <cite class=\"title\">Paint The Town Red</cite>,\n",
       " <cite class=\"title\">Rockin' Around the Christmas Tree (Single)</cite>,\n",
       " <cite class=\"title\">The Wind Brings Winter</cite>,\n",
       " <cite class=\"title\">Evil Ways (feat. J. Cole)</cite>,\n",
       " <cite class=\"title\">Still Not Fade the Footprints</cite>,\n",
       " <cite class=\"title\">Tonight I Dreamed a Pink Dream</cite>,\n",
       " <cite class=\"title\">3D</cite>,\n",
       " <cite class=\"title\">My Heart Has Come Back</cite>,\n",
       " <cite class=\"title\">You Broke My Heart</cite>,\n",
       " <cite class=\"title\">Why Don't You Tell the Truth ?</cite>,\n",
       " <cite class=\"title\">I Still Miss You Every Time Dusk Falls</cite>,\n",
       " <cite class=\"title\">Can’t Catch Me Now (from The Hunger Games: The Ballad of Songbirds &amp; Snakes)</cite>,\n",
       " <cite class=\"title\">Karma</cite>,\n",
       " <cite class=\"title\">Used To Be Young</cite>,\n",
       " <cite class=\"title\">exes</cite>,\n",
       " <cite class=\"title\">Better Place (From TROLLS Band Together)</cite>,\n",
       " <cite class=\"title\">Fancy Like Christmas</cite>,\n",
       " <cite class=\"title\">To Be A Man (feat. Darius Rucker)</cite>,\n",
       " <cite class=\"title\">You Don't Need to Worry</cite>,\n",
       " <cite class=\"title\">The Pink Rays of Sunlight Disappear</cite>,\n",
       " <cite class=\"title\">Snowman</cite>,\n",
       " <cite class=\"title\">Wild Ones (Extended Version)</cite>,\n",
       " <cite class=\"title\">Rich Men North of Richmond</cite>,\n",
       " <cite class=\"title\">Keith</cite>,\n",
       " <cite class=\"title\">Standing Next to You (Band Version)</cite>,\n",
       " <cite class=\"title\">Flyin' Pass (Single)</cite>,\n",
       " <cite class=\"title\">The Buds of Youth Are Still Lingering There</cite>,\n",
       " <cite class=\"title\">If You Dont Have One-The Day You</cite>,\n",
       " <cite class=\"title\">Save Me</cite>,\n",
       " <cite class=\"title\">Gratitude</cite>,\n",
       " <cite class=\"title\">Nights in White Satin (Single Edit)</cite>,\n",
       " <cite class=\"title\">Anti-Hero</cite>,\n",
       " <cite class=\"title\">The Painter</cite>,\n",
       " <cite class=\"title\">Watermelon Moonshine</cite>,\n",
       " <cite class=\"title\">Standing Next to You (Slow Jam Remix)</cite>,\n",
       " <cite class=\"title\">Standing Next to You (Holiday Remix)</cite>,\n",
       " <cite class=\"title\">Standing Next to You (Instrumental)</cite>,\n",
       " <cite class=\"title\">Wizards in Winter (Instrumental)</cite>,\n",
       " <cite class=\"title\">Standing Next to You (Future Funk Remix)</cite>,\n",
       " <cite class=\"title\">Standing Next to You (PBR&amp;B Remix)</cite>,\n",
       " <cite class=\"title\">Standing Next to You (Latin Trap Remix)</cite>,\n",
       " <cite class=\"title\">Fairytale Of Philadelphia</cite>,\n",
       " <cite class=\"title\">My Arms Are Spread Wide With Joy</cite>,\n",
       " <cite class=\"title\">Is It Over Now? (Taylor's Version) [From The Vault]</cite>,\n",
       " <cite class=\"title\">Lover</cite>,\n",
       " <cite class=\"title\">MONACO</cite>,\n",
       " <cite class=\"title\">Islands In the Stream</cite>,\n",
       " <cite class=\"title\">Stories About My Brother</cite>,\n",
       " <cite class=\"title\">Forever Settled Inside Me</cite>,\n",
       " <cite class=\"title\">Dance The Night</cite>,\n",
       " <cite class=\"title\">The Christmas Song (Merry Christmas to You)</cite>,\n",
       " <cite class=\"title\">The Shoe Fits</cite>,\n",
       " <cite class=\"title\">So It's Sad to Be Apart</cite>,\n",
       " <cite class=\"title\">Red Button</cite>,\n",
       " <cite class=\"title\">Son Of A Sinner</cite>,\n",
       " <cite class=\"title\">The Best</cite>,\n",
       " <cite class=\"title\">Tennessee Whiskey</cite>,\n",
       " <cite class=\"title\">Wick Man</cite>,\n",
       " <cite class=\"title\">Dirt Cheap</cite>,\n",
       " <cite class=\"title\">Please Stay Don't Go</cite>,\n",
       " <cite class=\"title\">Presha</cite>,\n",
       " <cite class=\"title\">A Mad Russian's Christmas (Instrumental)</cite>,\n",
       " <cite class=\"title\">Let It Be (feat. Paul McCartney &amp; Ringo Starr)</cite>,\n",
       " <cite class=\"title\">Purple Rain</cite>,\n",
       " <cite class=\"title\">Those Who Leave Will Not Return</cite>,\n",
       " <cite class=\"title\">G6</cite>,\n",
       " <cite class=\"title\">Dial Drunk</cite>,\n",
       " <cite class=\"title\">Autumn Comes Dry</cite>,\n",
       " <cite class=\"title\">Last Christmas (Single Version)</cite>,\n",
       " <cite class=\"title\">In My Life</cite>,\n",
       " <cite class=\"title\">TRUCK BED</cite>,\n",
       " <cite class=\"title\">ONE MORE TIME</cite>]"
      ]
     },
     "execution_count": 9,
     "metadata": {},
     "output_type": "execute_result"
    }
   ],
   "source": [
    "# find the title selector\n",
    "soup.select('div.chart-content.col-xs-12.col-sm-8 > p > cite')"
   ]
  },
  {
   "cell_type": "code",
   "execution_count": 10,
   "id": "5ea4cc0f",
   "metadata": {},
   "outputs": [
    {
     "data": {
      "text/plain": [
       "[<em class=\"artist\">Jack Harlow</em>,\n",
       " <em class=\"artist\">Paul Russell</em>,\n",
       " <em class=\"artist\">Chris Stapleton</em>,\n",
       " <em class=\"artist\">Zach Bryan</em>,\n",
       " <em class=\"artist\">Jelly Roll</em>,\n",
       " <em class=\"artist\">Jelly Roll</em>,\n",
       " <em class=\"artist\">Austin Williams</em>,\n",
       " <em class=\"artist\">Luminara Stellaris</em>,\n",
       " <em class=\"artist\">Taylor Swift</em>,\n",
       " <em class=\"artist\">Warren Zeiders</em>,\n",
       " <em class=\"artist\">The Philly Specials, Jason Kelce &amp; Travis Kelce</em>,\n",
       " <em class=\"artist\">The Beatles</em>,\n",
       " <em class=\"artist\">Luminara Stellaris</em>,\n",
       " <em class=\"artist\">Trans-Siberian Orchestra</em>,\n",
       " <em class=\"artist\">Morgan Wallen</em>,\n",
       " <em class=\"artist\">Luminara Stellaris</em>,\n",
       " <em class=\"artist\">Tate McRae</em>,\n",
       " <em class=\"artist\">Luke Combs</em>,\n",
       " <em class=\"artist\">Teddy Swims</em>,\n",
       " <em class=\"artist\">Mariah Carey</em>,\n",
       " <em class=\"artist\">Dua Lipa</em>,\n",
       " <em class=\"artist\">Luminara Stellaris</em>,\n",
       " <em class=\"artist\">Jimmy Fallon &amp; Meghan Trainor</em>,\n",
       " <em class=\"artist\">Morgan Wallen</em>,\n",
       " <em class=\"artist\">Luminara Stellaris</em>,\n",
       " <em class=\"artist\">Jung Kook</em>,\n",
       " <em class=\"artist\">Tyla</em>,\n",
       " <em class=\"artist\">Luke Combs</em>,\n",
       " <em class=\"artist\">Doja Cat</em>,\n",
       " <em class=\"artist\">Brenda Lee</em>,\n",
       " <em class=\"artist\">Luminara Stellaris</em>,\n",
       " <em class=\"artist\">Drake</em>,\n",
       " <em class=\"artist\">Luminara Stellaris</em>,\n",
       " <em class=\"artist\">Luminara Stellaris</em>,\n",
       " <em class=\"artist\">Jung Kook &amp; Jack Harlow</em>,\n",
       " <em class=\"artist\">Luminara Stellaris</em>,\n",
       " <em class=\"artist\">Drake</em>,\n",
       " <em class=\"artist\">The day you</em>,\n",
       " <em class=\"artist\">Luminara Stellaris</em>,\n",
       " <em class=\"artist\">Olivia Rodrigo</em>,\n",
       " <em class=\"artist\">Taylor Swift</em>,\n",
       " <em class=\"artist\">Miley Cyrus</em>,\n",
       " <em class=\"artist\">Tate McRae</em>,\n",
       " <em class=\"artist\">*NSYNC &amp; Justin Timberlake</em>,\n",
       " <em class=\"artist\">Walker Hayes</em>,\n",
       " <em class=\"artist\">Dax</em>,\n",
       " <em class=\"artist\">The day you</em>,\n",
       " <em class=\"artist\">Luminara Stellaris</em>,\n",
       " <em class=\"artist\">Sia</em>,\n",
       " <em class=\"artist\">Jessie Murph &amp; Jelly Roll</em>,\n",
       " <em class=\"artist\">Oliver Anthony Music</em>,\n",
       " <em class=\"artist\">Kaylee Bell</em>,\n",
       " <em class=\"artist\">Jung Kook</em>,\n",
       " <em class=\"artist\">Caldwell</em>,\n",
       " <em class=\"artist\">Luminara Stellaris</em>,\n",
       " <em class=\"artist\">The day you</em>,\n",
       " <em class=\"artist\">Jelly Roll</em>,\n",
       " <em class=\"artist\">Brandon Lake</em>,\n",
       " <em class=\"artist\">The Moody Blues, London Festival Orchestra &amp; Peter Knight</em>,\n",
       " <em class=\"artist\">Taylor Swift</em>,\n",
       " <em class=\"artist\">Cody Johnson</em>,\n",
       " <em class=\"artist\">Lainey Wilson</em>,\n",
       " <em class=\"artist\">Jung Kook</em>,\n",
       " <em class=\"artist\">Jung Kook</em>,\n",
       " <em class=\"artist\">Jung Kook</em>,\n",
       " <em class=\"artist\">Trans-Siberian Orchestra</em>,\n",
       " <em class=\"artist\">Jung Kook</em>,\n",
       " <em class=\"artist\">Jung Kook</em>,\n",
       " <em class=\"artist\">Jung Kook</em>,\n",
       " <em class=\"artist\">The Philly Specials, Jason Kelce &amp; Travis Kelce</em>,\n",
       " <em class=\"artist\">Luminara Stellaris</em>,\n",
       " <em class=\"artist\">Taylor Swift</em>,\n",
       " <em class=\"artist\">Taylor Swift</em>,\n",
       " <em class=\"artist\">Bad Bunny</em>,\n",
       " <em class=\"artist\">Dolly Parton &amp; Kenny Rogers</em>,\n",
       " <em class=\"artist\">Drake</em>,\n",
       " <em class=\"artist\">Luminara Stellaris</em>,\n",
       " <em class=\"artist\">Dua Lipa</em>,\n",
       " <em class=\"artist\">Nat \"King\" Cole</em>,\n",
       " <em class=\"artist\">Drake</em>,\n",
       " <em class=\"artist\">Luminara Stellaris</em>,\n",
       " <em class=\"artist\">Drake</em>,\n",
       " <em class=\"artist\">Jelly Roll</em>,\n",
       " <em class=\"artist\">Nicotine Dolls</em>,\n",
       " <em class=\"artist\">Chris Stapleton</em>,\n",
       " <em class=\"artist\">Drake</em>,\n",
       " <em class=\"artist\">Cody Johnson</em>,\n",
       " <em class=\"artist\">The day you</em>,\n",
       " <em class=\"artist\">2 Chainz &amp; Lil Wayne</em>,\n",
       " <em class=\"artist\">Trans-Siberian Orchestra</em>,\n",
       " <em class=\"artist\">Dolly Parton</em>,\n",
       " <em class=\"artist\">Dolly Parton</em>,\n",
       " <em class=\"artist\">Luminara Stellaris</em>,\n",
       " <em class=\"artist\">2 Chainz &amp; Lil Wayne</em>,\n",
       " <em class=\"artist\">Noah Kahan &amp; Post Malone</em>,\n",
       " <em class=\"artist\">Luminara Stellaris</em>,\n",
       " <em class=\"artist\">Wham!</em>,\n",
       " <em class=\"artist\">The Beatles</em>,\n",
       " <em class=\"artist\">HARDY</em>,\n",
       " <em class=\"artist\">blink-182</em>]"
      ]
     },
     "execution_count": 10,
     "metadata": {},
     "output_type": "execute_result"
    }
   ],
   "source": [
    "# find the artist selector\n",
    "soup.select('div.chart-content.col-xs-12.col-sm-8 > p > em')"
   ]
  },
  {
   "cell_type": "code",
   "execution_count": 11,
   "id": "db8df237",
   "metadata": {},
   "outputs": [
    {
     "name": "stdout",
     "output_type": "stream",
     "text": [
      "['Lovin On Me', 'Lil Boo Thang', 'White Horse', 'I Remember Everything (feat. Kacey Musgraves)', 'Need A Favor', 'Save Me (with Lainey Wilson)', '90s Rap Mashup', 'Around Me the Cold Night', 'Cruel Summer', 'Sin So Sweet', 'Fairytale Of Philadelphia', 'Now And Then', 'Next Winter I Will Wait for You Forever', 'Christmas / Sarajevo 12/24 (Instrumental)', 'Thinkin’ Bout Me', 'In the Sky a White Cloud Drifted Lazily', 'greedy', 'Fast Car', 'Lose Control', 'All I Want for Christmas Is You', 'Houdini', 'Even Though I Know You', 'Wrap Me Up', 'Last Night', \"Now I Know I Know I've Lost You\", 'Standing Next to You', 'Water', 'Where the Wild Things Are', 'Paint The Town Red', \"Rockin' Around the Christmas Tree (Single)\", 'The Wind Brings Winter', 'Evil Ways (feat. J. Cole)', 'Still Not Fade the Footprints', 'Tonight I Dreamed a Pink Dream', '3D', 'My Heart Has Come Back', 'You Broke My Heart', \"Why Don't You Tell the Truth ?\", 'I Still Miss You Every Time Dusk Falls', 'Can’t Catch Me Now (from The Hunger Games: The Ballad of Songbirds & Snakes)', 'Karma', 'Used To Be Young', 'exes', 'Better Place (From TROLLS Band Together)', 'Fancy Like Christmas', 'To Be A Man (feat. Darius Rucker)', \"You Don't Need to Worry\", 'The Pink Rays of Sunlight Disappear', 'Snowman', 'Wild Ones (Extended Version)', 'Rich Men North of Richmond', 'Keith', 'Standing Next to You (Band Version)', \"Flyin' Pass (Single)\", 'The Buds of Youth Are Still Lingering There', 'If You Dont Have One-The Day You', 'Save Me', 'Gratitude', 'Nights in White Satin (Single Edit)', 'Anti-Hero', 'The Painter', 'Watermelon Moonshine', 'Standing Next to You (Slow Jam Remix)', 'Standing Next to You (Holiday Remix)', 'Standing Next to You (Instrumental)', 'Wizards in Winter (Instrumental)', 'Standing Next to You (Future Funk Remix)', 'Standing Next to You (PBR&B Remix)', 'Standing Next to You (Latin Trap Remix)', 'Fairytale Of Philadelphia', 'My Arms Are Spread Wide With Joy', \"Is It Over Now? (Taylor's Version) [From The Vault]\", 'Lover', 'MONACO', 'Islands In the Stream', 'Stories About My Brother', 'Forever Settled Inside Me', 'Dance The Night', 'The Christmas Song (Merry Christmas to You)', 'The Shoe Fits', \"So It's Sad to Be Apart\", 'Red Button', 'Son Of A Sinner', 'The Best', 'Tennessee Whiskey', 'Wick Man', 'Dirt Cheap', \"Please Stay Don't Go\", 'Presha', \"A Mad Russian's Christmas (Instrumental)\", 'Let It Be (feat. Paul McCartney & Ringo Starr)', 'Purple Rain', 'Those Who Leave Will Not Return', 'G6', 'Dial Drunk', 'Autumn Comes Dry', 'Last Christmas (Single Version)', 'In My Life', 'TRUCK BED', 'ONE MORE TIME']\n"
     ]
    },
    {
     "data": {
      "text/plain": [
       "100"
      ]
     },
     "execution_count": 11,
     "metadata": {},
     "output_type": "execute_result"
    }
   ],
   "source": [
    "#making list into column fir song title\n",
    "title = []\n",
    "for t in soup.select('div.chart-content.col-xs-12.col-sm-8 > p > cite'):\n",
    "    title.append(t.get_text())\n",
    "print(title)\n",
    "len(title)"
   ]
  },
  {
   "cell_type": "code",
   "execution_count": 12,
   "id": "05632079",
   "metadata": {},
   "outputs": [
    {
     "name": "stdout",
     "output_type": "stream",
     "text": [
      "['Jack Harlow', 'Paul Russell', 'Chris Stapleton', 'Zach Bryan', 'Jelly Roll', 'Jelly Roll', 'Austin Williams', 'Luminara Stellaris', 'Taylor Swift', 'Warren Zeiders', 'The Philly Specials, Jason Kelce & Travis Kelce', 'The Beatles', 'Luminara Stellaris', 'Trans-Siberian Orchestra', 'Morgan Wallen', 'Luminara Stellaris', 'Tate McRae', 'Luke Combs', 'Teddy Swims', 'Mariah Carey', 'Dua Lipa', 'Luminara Stellaris', 'Jimmy Fallon & Meghan Trainor', 'Morgan Wallen', 'Luminara Stellaris', 'Jung Kook', 'Tyla', 'Luke Combs', 'Doja Cat', 'Brenda Lee', 'Luminara Stellaris', 'Drake', 'Luminara Stellaris', 'Luminara Stellaris', 'Jung Kook & Jack Harlow', 'Luminara Stellaris', 'Drake', 'The day you', 'Luminara Stellaris', 'Olivia Rodrigo', 'Taylor Swift', 'Miley Cyrus', 'Tate McRae', '*NSYNC & Justin Timberlake', 'Walker Hayes', 'Dax', 'The day you', 'Luminara Stellaris', 'Sia', 'Jessie Murph & Jelly Roll', 'Oliver Anthony Music', 'Kaylee Bell', 'Jung Kook', 'Caldwell', 'Luminara Stellaris', 'The day you', 'Jelly Roll', 'Brandon Lake', 'The Moody Blues, London Festival Orchestra & Peter Knight', 'Taylor Swift', 'Cody Johnson', 'Lainey Wilson', 'Jung Kook', 'Jung Kook', 'Jung Kook', 'Trans-Siberian Orchestra', 'Jung Kook', 'Jung Kook', 'Jung Kook', 'The Philly Specials, Jason Kelce & Travis Kelce', 'Luminara Stellaris', 'Taylor Swift', 'Taylor Swift', 'Bad Bunny', 'Dolly Parton & Kenny Rogers', 'Drake', 'Luminara Stellaris', 'Dua Lipa', 'Nat \"King\" Cole', 'Drake', 'Luminara Stellaris', 'Drake', 'Jelly Roll', 'Nicotine Dolls', 'Chris Stapleton', 'Drake', 'Cody Johnson', 'The day you', '2 Chainz & Lil Wayne', 'Trans-Siberian Orchestra', 'Dolly Parton', 'Dolly Parton', 'Luminara Stellaris', '2 Chainz & Lil Wayne', 'Noah Kahan & Post Malone', 'Luminara Stellaris', 'Wham!', 'The Beatles', 'HARDY', 'blink-182']\n"
     ]
    },
    {
     "data": {
      "text/plain": [
       "100"
      ]
     },
     "execution_count": 12,
     "metadata": {},
     "output_type": "execute_result"
    }
   ],
   "source": [
    "#making list into artist column\n",
    "artist = []\n",
    "for a in soup.select('div.chart-content.col-xs-12.col-sm-8 > p > em'):\n",
    "    artist.append(a.get_text())\n",
    "print(artist)\n",
    "len(artist)"
   ]
  },
  {
   "cell_type": "code",
   "execution_count": 13,
   "id": "c9555f25",
   "metadata": {},
   "outputs": [
    {
     "data": {
      "text/html": [
       "<div>\n",
       "<style scoped>\n",
       "    .dataframe tbody tr th:only-of-type {\n",
       "        vertical-align: middle;\n",
       "    }\n",
       "\n",
       "    .dataframe tbody tr th {\n",
       "        vertical-align: top;\n",
       "    }\n",
       "\n",
       "    .dataframe thead th {\n",
       "        text-align: right;\n",
       "    }\n",
       "</style>\n",
       "<table border=\"1\" class=\"dataframe\">\n",
       "  <thead>\n",
       "    <tr style=\"text-align: right;\">\n",
       "      <th></th>\n",
       "      <th>song_title</th>\n",
       "      <th>artist</th>\n",
       "    </tr>\n",
       "  </thead>\n",
       "  <tbody>\n",
       "    <tr>\n",
       "      <th>0</th>\n",
       "      <td>Lovin On Me</td>\n",
       "      <td>Jack Harlow</td>\n",
       "    </tr>\n",
       "    <tr>\n",
       "      <th>1</th>\n",
       "      <td>Lil Boo Thang</td>\n",
       "      <td>Paul Russell</td>\n",
       "    </tr>\n",
       "    <tr>\n",
       "      <th>2</th>\n",
       "      <td>White Horse</td>\n",
       "      <td>Chris Stapleton</td>\n",
       "    </tr>\n",
       "    <tr>\n",
       "      <th>3</th>\n",
       "      <td>I Remember Everything (feat. Kacey Musgraves)</td>\n",
       "      <td>Zach Bryan</td>\n",
       "    </tr>\n",
       "    <tr>\n",
       "      <th>4</th>\n",
       "      <td>Need A Favor</td>\n",
       "      <td>Jelly Roll</td>\n",
       "    </tr>\n",
       "    <tr>\n",
       "      <th>...</th>\n",
       "      <td>...</td>\n",
       "      <td>...</td>\n",
       "    </tr>\n",
       "    <tr>\n",
       "      <th>95</th>\n",
       "      <td>Autumn Comes Dry</td>\n",
       "      <td>Luminara Stellaris</td>\n",
       "    </tr>\n",
       "    <tr>\n",
       "      <th>96</th>\n",
       "      <td>Last Christmas (Single Version)</td>\n",
       "      <td>Wham!</td>\n",
       "    </tr>\n",
       "    <tr>\n",
       "      <th>97</th>\n",
       "      <td>In My Life</td>\n",
       "      <td>The Beatles</td>\n",
       "    </tr>\n",
       "    <tr>\n",
       "      <th>98</th>\n",
       "      <td>TRUCK BED</td>\n",
       "      <td>HARDY</td>\n",
       "    </tr>\n",
       "    <tr>\n",
       "      <th>99</th>\n",
       "      <td>ONE MORE TIME</td>\n",
       "      <td>blink-182</td>\n",
       "    </tr>\n",
       "  </tbody>\n",
       "</table>\n",
       "<p>100 rows × 2 columns</p>\n",
       "</div>"
      ],
      "text/plain": [
       "                                       song_title              artist\n",
       "0                                     Lovin On Me         Jack Harlow\n",
       "1                                   Lil Boo Thang        Paul Russell\n",
       "2                                     White Horse     Chris Stapleton\n",
       "3   I Remember Everything (feat. Kacey Musgraves)          Zach Bryan\n",
       "4                                    Need A Favor          Jelly Roll\n",
       "..                                            ...                 ...\n",
       "95                               Autumn Comes Dry  Luminara Stellaris\n",
       "96                Last Christmas (Single Version)               Wham!\n",
       "97                                     In My Life         The Beatles\n",
       "98                                      TRUCK BED               HARDY\n",
       "99                                  ONE MORE TIME           blink-182\n",
       "\n",
       "[100 rows x 2 columns]"
      ]
     },
     "execution_count": 13,
     "metadata": {},
     "output_type": "execute_result"
    }
   ],
   "source": [
    "#creating dataframe\n",
    "songlist = pd.DataFrame({\"song_title\":title,\n",
    "                       \"artist\":artist,\n",
    "                      })\n",
    "songlist"
   ]
  },
  {
   "cell_type": "markdown",
   "id": "2f1e0e45",
   "metadata": {},
   "source": [
    "### Collecting more songs from url = https://www.billboard.com/charts/hot-100/"
   ]
  },
  {
   "cell_type": "code",
   "execution_count": 15,
   "id": "c3089149",
   "metadata": {},
   "outputs": [],
   "source": [
    "url2 = 'https://www.billboard.com/charts/hot-100/'"
   ]
  },
  {
   "cell_type": "code",
   "execution_count": 16,
   "id": "33fd0208",
   "metadata": {},
   "outputs": [
    {
     "data": {
      "text/plain": [
       "200"
      ]
     },
     "execution_count": 16,
     "metadata": {},
     "output_type": "execute_result"
    }
   ],
   "source": [
    "#download html with a get request\n",
    "response = requests.get(url2)\n",
    "response.status_code # 200 status code means OK!"
   ]
  },
  {
   "cell_type": "code",
   "execution_count": 17,
   "id": "5a4b59f9",
   "metadata": {},
   "outputs": [],
   "source": [
    "#parse html (create the 'soup')\n",
    "soup2 = BeautifulSoup(response.content, \"html.parser\")"
   ]
  },
  {
   "cell_type": "code",
   "execution_count": 18,
   "id": "8ef817d5",
   "metadata": {},
   "outputs": [],
   "source": [
    "#print(soup2.prettify())"
   ]
  },
  {
   "cell_type": "code",
   "execution_count": 32,
   "id": "4626128a",
   "metadata": {},
   "outputs": [
    {
     "data": {
      "text/plain": [
       "[<li class=\"o-chart-results-list__item // lrv-u-flex-grow-1 lrv-u-flex lrv-u-flex-direction-column lrv-u-justify-content-center lrv-u-border-b-1 u-border-b-0@mobile-max lrv-u-border-color-grey-light lrv-u-padding-l-1@mobile-max\">\n",
       " <h3 class=\"c-title a-no-trucate a-font-primary-bold-s u-letter-spacing-0021 u-font-size-23@tablet lrv-u-font-size-16 u-line-height-125 u-line-height-normal@mobile-max a-truncate-ellipsis u-max-width-245 u-max-width-230@tablet-only u-letter-spacing-0028@tablet\" id=\"title-of-a-story\">\n",
       " \n",
       " \t\n",
       " \t\n",
       " \t\t\n",
       " \t\t\t\t\tCruel Summer\t\t\n",
       " \t\n",
       " </h3>\n",
       " <span class=\"c-label a-no-trucate a-font-primary-s lrv-u-font-size-14@mobile-max u-line-height-normal@mobile-max u-letter-spacing-0021 lrv-u-display-block a-truncate-ellipsis-2line u-max-width-330 u-max-width-230@tablet-only u-font-size-20@tablet\">\n",
       " \t\n",
       " \tTaylor Swift\n",
       " </span>\n",
       " </li>]"
      ]
     },
     "execution_count": 32,
     "metadata": {},
     "output_type": "execute_result"
    }
   ],
   "source": [
    "# retrieve/extract the desired info (here, you'll paste the \"Selector\" you copied before to get the element)\n",
    "soup2.select(\"#post-1479786 > div.pmc-paywall > div > div > div > div.chart-results-list.\\/\\/.lrv-u-padding-t-150.lrv-u-padding-t-050\\@mobile-max > div:nth-child(2) > ul > li.lrv-u-width-100p > ul > li.o-chart-results-list__item.\\/\\/.lrv-u-flex-grow-1.lrv-u-flex.lrv-u-flex-direction-column.lrv-u-justify-content-center.lrv-u-border-b-1.u-border-b-0\\@mobile-max.lrv-u-border-color-grey-light.lrv-u-padding-l-1\\@mobile-max\")"
   ]
  },
  {
   "cell_type": "code",
   "execution_count": 20,
   "id": "9b9d09b8",
   "metadata": {},
   "outputs": [],
   "source": [
    "song_elements = soup2.find_all('h3', class_='c-title')"
   ]
  },
  {
   "cell_type": "code",
   "execution_count": 33,
   "id": "4db705ef",
   "metadata": {},
   "outputs": [],
   "source": [
    "# for song in song_elements:\n",
    "#     print(song.get_text())"
   ]
  },
  {
   "cell_type": "code",
   "execution_count": 22,
   "id": "37c07ebd",
   "metadata": {},
   "outputs": [],
   "source": [
    "#https://stackoverflow.com/questions/73356641/how-to-scrape-billboard-using-find-all\n",
    "#reference for the below code\n",
    "\n",
    "#class o-chart-results-list-row-container, serves as the container for the song and artist information."
   ]
  },
  {
   "cell_type": "code",
   "execution_count": 23,
   "id": "a11c603c",
   "metadata": {},
   "outputs": [],
   "source": [
    "data = []\n",
    "\n",
    "for e in soup2.find_all(attrs={'class':'o-chart-results-list-row-container'}):\n",
    "    data.append({\n",
    "        'song_title':e.h3.get_text(strip=True),\n",
    "        'artist':e.h3.find_next('span').get_text(strip=True)\n",
    "    })\n",
    "\n",
    "data_frame_billboard = pd.DataFrame(data)"
   ]
  },
  {
   "cell_type": "code",
   "execution_count": 24,
   "id": "c042e9af",
   "metadata": {},
   "outputs": [
    {
     "data": {
      "text/html": [
       "<div>\n",
       "<style scoped>\n",
       "    .dataframe tbody tr th:only-of-type {\n",
       "        vertical-align: middle;\n",
       "    }\n",
       "\n",
       "    .dataframe tbody tr th {\n",
       "        vertical-align: top;\n",
       "    }\n",
       "\n",
       "    .dataframe thead th {\n",
       "        text-align: right;\n",
       "    }\n",
       "</style>\n",
       "<table border=\"1\" class=\"dataframe\">\n",
       "  <thead>\n",
       "    <tr style=\"text-align: right;\">\n",
       "      <th></th>\n",
       "      <th>song_title</th>\n",
       "      <th>artist</th>\n",
       "    </tr>\n",
       "  </thead>\n",
       "  <tbody>\n",
       "    <tr>\n",
       "      <th>0</th>\n",
       "      <td>Cruel Summer</td>\n",
       "      <td>Taylor Swift</td>\n",
       "    </tr>\n",
       "    <tr>\n",
       "      <th>1</th>\n",
       "      <td>Paint The Town Red</td>\n",
       "      <td>Doja Cat</td>\n",
       "    </tr>\n",
       "    <tr>\n",
       "      <th>2</th>\n",
       "      <td>Is It Over Now? (Taylor's Version) [From The V...</td>\n",
       "      <td>Taylor Swift</td>\n",
       "    </tr>\n",
       "    <tr>\n",
       "      <th>3</th>\n",
       "      <td>Snooze</td>\n",
       "      <td>SZA</td>\n",
       "    </tr>\n",
       "    <tr>\n",
       "      <th>4</th>\n",
       "      <td>Standing Next To You</td>\n",
       "      <td>Jung Kook</td>\n",
       "    </tr>\n",
       "    <tr>\n",
       "      <th>...</th>\n",
       "      <td>...</td>\n",
       "      <td>...</td>\n",
       "    </tr>\n",
       "    <tr>\n",
       "      <th>95</th>\n",
       "      <td>Clean (Taylor's Version)</td>\n",
       "      <td>Taylor Swift</td>\n",
       "    </tr>\n",
       "    <tr>\n",
       "      <th>96</th>\n",
       "      <td>Bleed</td>\n",
       "      <td>The Kid LAROI</td>\n",
       "    </tr>\n",
       "    <tr>\n",
       "      <th>97</th>\n",
       "      <td>But I Got A Beer In My Hand</td>\n",
       "      <td>Luke Bryan</td>\n",
       "    </tr>\n",
       "    <tr>\n",
       "      <th>98</th>\n",
       "      <td>We Don't Fight Anymore</td>\n",
       "      <td>Carly Pearce Featuring Chris Stapleton</td>\n",
       "    </tr>\n",
       "    <tr>\n",
       "      <th>99</th>\n",
       "      <td>Sarah's Place</td>\n",
       "      <td>Zach Bryan Featuring Noah Kahan</td>\n",
       "    </tr>\n",
       "  </tbody>\n",
       "</table>\n",
       "<p>100 rows × 2 columns</p>\n",
       "</div>"
      ],
      "text/plain": [
       "                                           song_title  \\\n",
       "0                                        Cruel Summer   \n",
       "1                                  Paint The Town Red   \n",
       "2   Is It Over Now? (Taylor's Version) [From The V...   \n",
       "3                                              Snooze   \n",
       "4                                Standing Next To You   \n",
       "..                                                ...   \n",
       "95                           Clean (Taylor's Version)   \n",
       "96                                              Bleed   \n",
       "97                        But I Got A Beer In My Hand   \n",
       "98                             We Don't Fight Anymore   \n",
       "99                                      Sarah's Place   \n",
       "\n",
       "                                    artist  \n",
       "0                             Taylor Swift  \n",
       "1                                 Doja Cat  \n",
       "2                             Taylor Swift  \n",
       "3                                      SZA  \n",
       "4                                Jung Kook  \n",
       "..                                     ...  \n",
       "95                            Taylor Swift  \n",
       "96                           The Kid LAROI  \n",
       "97                              Luke Bryan  \n",
       "98  Carly Pearce Featuring Chris Stapleton  \n",
       "99         Zach Bryan Featuring Noah Kahan  \n",
       "\n",
       "[100 rows x 2 columns]"
      ]
     },
     "execution_count": 24,
     "metadata": {},
     "output_type": "execute_result"
    }
   ],
   "source": [
    "data_frame_billboard"
   ]
  },
  {
   "cell_type": "code",
   "execution_count": 25,
   "id": "0c8a4d86",
   "metadata": {},
   "outputs": [
    {
     "data": {
      "text/html": [
       "<div>\n",
       "<style scoped>\n",
       "    .dataframe tbody tr th:only-of-type {\n",
       "        vertical-align: middle;\n",
       "    }\n",
       "\n",
       "    .dataframe tbody tr th {\n",
       "        vertical-align: top;\n",
       "    }\n",
       "\n",
       "    .dataframe thead th {\n",
       "        text-align: right;\n",
       "    }\n",
       "</style>\n",
       "<table border=\"1\" class=\"dataframe\">\n",
       "  <thead>\n",
       "    <tr style=\"text-align: right;\">\n",
       "      <th></th>\n",
       "      <th>song_title</th>\n",
       "      <th>artist</th>\n",
       "    </tr>\n",
       "  </thead>\n",
       "  <tbody>\n",
       "    <tr>\n",
       "      <th>0</th>\n",
       "      <td>Cruel Summer</td>\n",
       "      <td>Taylor Swift</td>\n",
       "    </tr>\n",
       "    <tr>\n",
       "      <th>1</th>\n",
       "      <td>Paint The Town Red</td>\n",
       "      <td>Doja Cat</td>\n",
       "    </tr>\n",
       "    <tr>\n",
       "      <th>2</th>\n",
       "      <td>Is It Over Now? (Taylor's Version) [From The V...</td>\n",
       "      <td>Taylor Swift</td>\n",
       "    </tr>\n",
       "    <tr>\n",
       "      <th>3</th>\n",
       "      <td>Snooze</td>\n",
       "      <td>SZA</td>\n",
       "    </tr>\n",
       "    <tr>\n",
       "      <th>4</th>\n",
       "      <td>Standing Next To You</td>\n",
       "      <td>Jung Kook</td>\n",
       "    </tr>\n",
       "    <tr>\n",
       "      <th>...</th>\n",
       "      <td>...</td>\n",
       "      <td>...</td>\n",
       "    </tr>\n",
       "    <tr>\n",
       "      <th>95</th>\n",
       "      <td>Autumn Comes Dry</td>\n",
       "      <td>Luminara Stellaris</td>\n",
       "    </tr>\n",
       "    <tr>\n",
       "      <th>96</th>\n",
       "      <td>Last Christmas (Single Version)</td>\n",
       "      <td>Wham!</td>\n",
       "    </tr>\n",
       "    <tr>\n",
       "      <th>97</th>\n",
       "      <td>In My Life</td>\n",
       "      <td>The Beatles</td>\n",
       "    </tr>\n",
       "    <tr>\n",
       "      <th>98</th>\n",
       "      <td>TRUCK BED</td>\n",
       "      <td>HARDY</td>\n",
       "    </tr>\n",
       "    <tr>\n",
       "      <th>99</th>\n",
       "      <td>ONE MORE TIME</td>\n",
       "      <td>blink-182</td>\n",
       "    </tr>\n",
       "  </tbody>\n",
       "</table>\n",
       "<p>200 rows × 2 columns</p>\n",
       "</div>"
      ],
      "text/plain": [
       "                                           song_title              artist\n",
       "0                                        Cruel Summer        Taylor Swift\n",
       "1                                  Paint The Town Red            Doja Cat\n",
       "2   Is It Over Now? (Taylor's Version) [From The V...        Taylor Swift\n",
       "3                                              Snooze                 SZA\n",
       "4                                Standing Next To You           Jung Kook\n",
       "..                                                ...                 ...\n",
       "95                                   Autumn Comes Dry  Luminara Stellaris\n",
       "96                    Last Christmas (Single Version)               Wham!\n",
       "97                                         In My Life         The Beatles\n",
       "98                                          TRUCK BED               HARDY\n",
       "99                                      ONE MORE TIME           blink-182\n",
       "\n",
       "[200 rows x 2 columns]"
      ]
     },
     "execution_count": 25,
     "metadata": {},
     "output_type": "execute_result"
    }
   ],
   "source": [
    "# merging both the dataframes\n",
    "\n",
    "hot_songs=pd.concat([data_frame_billboard,songlist],axis=0)\n",
    "hot_songs"
   ]
  },
  {
   "cell_type": "code",
   "execution_count": 26,
   "id": "1820b3e9",
   "metadata": {},
   "outputs": [
    {
     "data": {
      "text/plain": [
       "song_title    0\n",
       "artist        0\n",
       "dtype: int64"
      ]
     },
     "execution_count": 26,
     "metadata": {},
     "output_type": "execute_result"
    }
   ],
   "source": [
    "hot_songs.isna().sum()"
   ]
  },
  {
   "cell_type": "code",
   "execution_count": 27,
   "id": "be183e5d",
   "metadata": {},
   "outputs": [
    {
     "data": {
      "text/plain": [
       "17"
      ]
     },
     "execution_count": 27,
     "metadata": {},
     "output_type": "execute_result"
    }
   ],
   "source": [
    "hot_songs.duplicated().sum()"
   ]
  },
  {
   "cell_type": "code",
   "execution_count": 28,
   "id": "0bdbe056",
   "metadata": {},
   "outputs": [],
   "source": [
    "hot_songs = hot_songs.drop_duplicates()"
   ]
  },
  {
   "cell_type": "code",
   "execution_count": 29,
   "id": "faf0d420",
   "metadata": {},
   "outputs": [
    {
     "data": {
      "text/html": [
       "<div>\n",
       "<style scoped>\n",
       "    .dataframe tbody tr th:only-of-type {\n",
       "        vertical-align: middle;\n",
       "    }\n",
       "\n",
       "    .dataframe tbody tr th {\n",
       "        vertical-align: top;\n",
       "    }\n",
       "\n",
       "    .dataframe thead th {\n",
       "        text-align: right;\n",
       "    }\n",
       "</style>\n",
       "<table border=\"1\" class=\"dataframe\">\n",
       "  <thead>\n",
       "    <tr style=\"text-align: right;\">\n",
       "      <th></th>\n",
       "      <th>song_title</th>\n",
       "      <th>artist</th>\n",
       "    </tr>\n",
       "  </thead>\n",
       "  <tbody>\n",
       "    <tr>\n",
       "      <th>0</th>\n",
       "      <td>Cruel Summer</td>\n",
       "      <td>Taylor Swift</td>\n",
       "    </tr>\n",
       "    <tr>\n",
       "      <th>1</th>\n",
       "      <td>Paint The Town Red</td>\n",
       "      <td>Doja Cat</td>\n",
       "    </tr>\n",
       "    <tr>\n",
       "      <th>2</th>\n",
       "      <td>Is It Over Now? (Taylor's Version) [From The V...</td>\n",
       "      <td>Taylor Swift</td>\n",
       "    </tr>\n",
       "    <tr>\n",
       "      <th>3</th>\n",
       "      <td>Snooze</td>\n",
       "      <td>SZA</td>\n",
       "    </tr>\n",
       "    <tr>\n",
       "      <th>4</th>\n",
       "      <td>Standing Next To You</td>\n",
       "      <td>Jung Kook</td>\n",
       "    </tr>\n",
       "    <tr>\n",
       "      <th>...</th>\n",
       "      <td>...</td>\n",
       "      <td>...</td>\n",
       "    </tr>\n",
       "    <tr>\n",
       "      <th>95</th>\n",
       "      <td>Autumn Comes Dry</td>\n",
       "      <td>Luminara Stellaris</td>\n",
       "    </tr>\n",
       "    <tr>\n",
       "      <th>96</th>\n",
       "      <td>Last Christmas (Single Version)</td>\n",
       "      <td>Wham!</td>\n",
       "    </tr>\n",
       "    <tr>\n",
       "      <th>97</th>\n",
       "      <td>In My Life</td>\n",
       "      <td>The Beatles</td>\n",
       "    </tr>\n",
       "    <tr>\n",
       "      <th>98</th>\n",
       "      <td>TRUCK BED</td>\n",
       "      <td>HARDY</td>\n",
       "    </tr>\n",
       "    <tr>\n",
       "      <th>99</th>\n",
       "      <td>ONE MORE TIME</td>\n",
       "      <td>blink-182</td>\n",
       "    </tr>\n",
       "  </tbody>\n",
       "</table>\n",
       "<p>183 rows × 2 columns</p>\n",
       "</div>"
      ],
      "text/plain": [
       "                                           song_title              artist\n",
       "0                                        Cruel Summer        Taylor Swift\n",
       "1                                  Paint The Town Red            Doja Cat\n",
       "2   Is It Over Now? (Taylor's Version) [From The V...        Taylor Swift\n",
       "3                                              Snooze                 SZA\n",
       "4                                Standing Next To You           Jung Kook\n",
       "..                                                ...                 ...\n",
       "95                                   Autumn Comes Dry  Luminara Stellaris\n",
       "96                    Last Christmas (Single Version)               Wham!\n",
       "97                                         In My Life         The Beatles\n",
       "98                                          TRUCK BED               HARDY\n",
       "99                                      ONE MORE TIME           blink-182\n",
       "\n",
       "[183 rows x 2 columns]"
      ]
     },
     "execution_count": 29,
     "metadata": {},
     "output_type": "execute_result"
    }
   ],
   "source": [
    "hot_songs"
   ]
  },
  {
   "cell_type": "code",
   "execution_count": 35,
   "id": "12627604",
   "metadata": {},
   "outputs": [
    {
     "name": "stderr",
     "output_type": "stream",
     "text": [
      "/var/folders/p5/hv9js_hd6tnfdw35zqpfh7t40000gn/T/ipykernel_13302/3478270444.py:1: SettingWithCopyWarning: \n",
      "A value is trying to be set on a copy of a slice from a DataFrame.\n",
      "Try using .loc[row_indexer,col_indexer] = value instead\n",
      "\n",
      "See the caveats in the documentation: https://pandas.pydata.org/pandas-docs/stable/user_guide/indexing.html#returning-a-view-versus-a-copy\n",
      "  hot_songs['song_title'] = hot_songs['song_title'].str.lower()\n",
      "/var/folders/p5/hv9js_hd6tnfdw35zqpfh7t40000gn/T/ipykernel_13302/3478270444.py:2: SettingWithCopyWarning: \n",
      "A value is trying to be set on a copy of a slice from a DataFrame.\n",
      "Try using .loc[row_indexer,col_indexer] = value instead\n",
      "\n",
      "See the caveats in the documentation: https://pandas.pydata.org/pandas-docs/stable/user_guide/indexing.html#returning-a-view-versus-a-copy\n",
      "  hot_songs['artist'] = hot_songs['artist'].str.lower()\n"
     ]
    }
   ],
   "source": [
    "hot_songs['song_title'] = hot_songs['song_title'].str.lower()\n",
    "hot_songs['artist'] = hot_songs['artist'].str.lower()"
   ]
  },
  {
   "cell_type": "code",
   "execution_count": 36,
   "id": "d2a8971f",
   "metadata": {},
   "outputs": [
    {
     "data": {
      "text/html": [
       "<div>\n",
       "<style scoped>\n",
       "    .dataframe tbody tr th:only-of-type {\n",
       "        vertical-align: middle;\n",
       "    }\n",
       "\n",
       "    .dataframe tbody tr th {\n",
       "        vertical-align: top;\n",
       "    }\n",
       "\n",
       "    .dataframe thead th {\n",
       "        text-align: right;\n",
       "    }\n",
       "</style>\n",
       "<table border=\"1\" class=\"dataframe\">\n",
       "  <thead>\n",
       "    <tr style=\"text-align: right;\">\n",
       "      <th></th>\n",
       "      <th>song_title</th>\n",
       "      <th>artist</th>\n",
       "    </tr>\n",
       "  </thead>\n",
       "  <tbody>\n",
       "    <tr>\n",
       "      <th>0</th>\n",
       "      <td>cruel summer</td>\n",
       "      <td>taylor swift</td>\n",
       "    </tr>\n",
       "    <tr>\n",
       "      <th>1</th>\n",
       "      <td>paint the town red</td>\n",
       "      <td>doja cat</td>\n",
       "    </tr>\n",
       "    <tr>\n",
       "      <th>2</th>\n",
       "      <td>is it over now? (taylor's version) [from the v...</td>\n",
       "      <td>taylor swift</td>\n",
       "    </tr>\n",
       "    <tr>\n",
       "      <th>3</th>\n",
       "      <td>snooze</td>\n",
       "      <td>sza</td>\n",
       "    </tr>\n",
       "    <tr>\n",
       "      <th>4</th>\n",
       "      <td>standing next to you</td>\n",
       "      <td>jung kook</td>\n",
       "    </tr>\n",
       "    <tr>\n",
       "      <th>...</th>\n",
       "      <td>...</td>\n",
       "      <td>...</td>\n",
       "    </tr>\n",
       "    <tr>\n",
       "      <th>95</th>\n",
       "      <td>autumn comes dry</td>\n",
       "      <td>luminara stellaris</td>\n",
       "    </tr>\n",
       "    <tr>\n",
       "      <th>96</th>\n",
       "      <td>last christmas (single version)</td>\n",
       "      <td>wham!</td>\n",
       "    </tr>\n",
       "    <tr>\n",
       "      <th>97</th>\n",
       "      <td>in my life</td>\n",
       "      <td>the beatles</td>\n",
       "    </tr>\n",
       "    <tr>\n",
       "      <th>98</th>\n",
       "      <td>truck bed</td>\n",
       "      <td>hardy</td>\n",
       "    </tr>\n",
       "    <tr>\n",
       "      <th>99</th>\n",
       "      <td>one more time</td>\n",
       "      <td>blink-182</td>\n",
       "    </tr>\n",
       "  </tbody>\n",
       "</table>\n",
       "<p>183 rows × 2 columns</p>\n",
       "</div>"
      ],
      "text/plain": [
       "                                           song_title              artist\n",
       "0                                        cruel summer        taylor swift\n",
       "1                                  paint the town red            doja cat\n",
       "2   is it over now? (taylor's version) [from the v...        taylor swift\n",
       "3                                              snooze                 sza\n",
       "4                                standing next to you           jung kook\n",
       "..                                                ...                 ...\n",
       "95                                   autumn comes dry  luminara stellaris\n",
       "96                    last christmas (single version)               wham!\n",
       "97                                         in my life         the beatles\n",
       "98                                          truck bed               hardy\n",
       "99                                      one more time           blink-182\n",
       "\n",
       "[183 rows x 2 columns]"
      ]
     },
     "execution_count": 36,
     "metadata": {},
     "output_type": "execute_result"
    }
   ],
   "source": [
    "hot_songs"
   ]
  },
  {
   "cell_type": "code",
   "execution_count": 37,
   "id": "f263a850",
   "metadata": {},
   "outputs": [],
   "source": [
    "# saving to a csv file\n",
    "hot_songs.to_csv('hot_songs.csv', index = False)"
   ]
  },
  {
   "cell_type": "code",
   "execution_count": null,
   "id": "c82ff8cd",
   "metadata": {},
   "outputs": [],
   "source": [
    "playlist1 = sp.user_playlist_tracks(\"spotify\", '37i9dQZF1DWSV3Tk4GO2fq')\n",
    "playlist2 = sp.user_playlist_tracks(\"spotify\", '3SbE5Sk5MWtNc0GRTU0X6d')"
   ]
  }
 ],
 "metadata": {
  "kernelspec": {
   "display_name": "Python 3 (ipykernel)",
   "language": "python",
   "name": "python3"
  },
  "language_info": {
   "codemirror_mode": {
    "name": "ipython",
    "version": 3
   },
   "file_extension": ".py",
   "mimetype": "text/x-python",
   "name": "python",
   "nbconvert_exporter": "python",
   "pygments_lexer": "ipython3",
   "version": "3.11.4"
  }
 },
 "nbformat": 4,
 "nbformat_minor": 5
}
